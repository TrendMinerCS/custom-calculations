{
 "cells": [
  {
   "cell_type": "markdown",
   "id": "726bbf96-b862-4a55-9874-64a2a6226dec",
   "metadata": {},
   "source": [
    "# Custom calculations\n",
    "This document provides an introduction to Python custom calculation tags, as well as examples of the most common applications. You can skip ahead to the examples and change the variables to apply to your use case, or you can go through the full document to gain a deeper understanding, allowing you to solve use cases not covered by these examples.\n",
    "\n",
    "This document does not attempt to give a full introduction the underlying Python SDK. To explore all possibilities, refer to https://python-sdk-core.trendminer.com.\n",
    "\n",
    "**Do not attempt to run this notebook. Only use the code from the relevant sections.**"
   ]
  },
  {
   "cell_type": "markdown",
   "id": "f609088b-bf30-424a-8278-eaf22a6aa27a",
   "metadata": {},
   "source": [
    "## Custom calculation basics"
   ]
  },
  {
   "cell_type": "markdown",
   "id": "f69456b0-2a53-4e39-bc2b-a2c8e40f3b33",
   "metadata": {
    "jp-MarkdownHeadingCollapsed": true
   },
   "source": [
    "### Tag dependencies\n",
    "When making a custom calculation tag, we need to manually enter the tags our calculation is dependent on. This will make sure that their indexes are up to date and we can use their most recent data. Unlike formula tags, custom calculation tags do not automatically infer tag dependencies from the code.\n",
    "\n",
    "Forgetting this step might make our calculations stop or fail because the latest index data from the dependent tags is not available yet."
   ]
  },
  {
   "cell_type": "markdown",
   "id": "285dfba3-1ab4-4146-8dd5-baf0a58aae30",
   "metadata": {},
   "source": [
    "### Authentication\n",
    "The custom calculation environment in TrendMiner contains the environment variable `ACCESS_TOKEN`, which is used to create a valid `client` object that can interact with the TrendMiner environment.\n",
    "\n",
    "To get our custom calculations working in this external Jupyter notebook, we manually set a valid access token. We recommend replicating trying your custom calculations directly in TrendMiner, so there is no need for you tho replicate this step. You can simply ignore the snippet below."
   ]
  },
  {
   "cell_type": "markdown",
   "id": "c6850f78-4506-4f32-91d3-9c4eecac83cc",
   "metadata": {},
   "source": [
    "*Authenticaiton mechanism: we are authenticating to a test environment using a client id and client secret (which is safely stored in our keychain so we do not have to put it in as plain text). An access token is returned which we can use to access the TrendMiner resources this particular client has been given access to.*\n",
    "\n",
    "*We then overload the method that will return the correct URL from within the custom calculations environment to be the url of our server. This prevents us from adding the `url` parameter to the `from_token` method, which would prevent direct copying of the examples below into the custom calculations window in TrendMiner.*"
   ]
  },
  {
   "cell_type": "code",
   "execution_count": 1,
   "id": "b151af50-9a03-4a69-ad94-ba763d3a73ae",
   "metadata": {},
   "outputs": [
    {
     "name": "stderr",
     "output_type": "stream",
     "text": [
      "/Users/wouter.daniels/PycharmProjects/TrendMinerCS/.venv/lib/python3.9/site-packages/urllib3/__init__.py:35: NotOpenSSLWarning: urllib3 v2 only supports OpenSSL 1.1.1+, currently the 'ssl' module is compiled with 'LibreSSL 2.8.3'. See: https://github.com/urllib3/urllib3/issues/3020\n",
      "  warnings.warn(\n"
     ]
    }
   ],
   "source": [
    "# IGNORE ME. I AM NOT NEEDED IN THE CUSTOM CALCULATIONS ENVIRONMENT.\n",
    "import os\n",
    "import keycloak\n",
    "import keyring\n",
    "\n",
    "url = 'https://cs.trendminer.net'\n",
    "client_id = 'wdanielsclient'\n",
    "\n",
    "open_id = keycloak.KeycloakOpenID(\n",
    "    server_url=f\"{url}/auth/\",\n",
    "    realm_name=\"trendminer\",\n",
    "    client_id=client_id,\n",
    "    client_secret_key=keyring.get_password(url, client_id),\n",
    ")\n",
    "    \n",
    "token = open_id.token(\n",
    "    grant_type=\"client_credentials\",\n",
    ")\n",
    "\n",
    "os.environ.update({\n",
    "    \"ACCESS_TOKEN\": token['access_token']\n",
    "})\n",
    "\n",
    "from trendminer.impl._util import DefaultUrlUtils\n",
    "DefaultUrlUtils.get_default_url = lambda self, service_name: url"
   ]
  },
  {
   "cell_type": "markdown",
   "id": "09f4b231-eb2f-4340-80ce-d8836e8f01ac",
   "metadata": {},
   "source": [
    "In the custom calculations editor, we can simply retrieve a valid token from the environment and use that to get a valid client. The following code will be present in every custom calculation tag:"
   ]
  },
  {
   "cell_type": "code",
   "execution_count": 2,
   "id": "b52f4aad-06d8-4030-a82a-35ce19ac56c3",
   "metadata": {},
   "outputs": [],
   "source": [
    "import os\n",
    "from trendminer import TrendMinerClient\n",
    "\n",
    "client = TrendMinerClient.from_token(\n",
    "    token=os.environ[\"ACCESS_TOKEN\"],\n",
    ")"
   ]
  },
  {
   "cell_type": "markdown",
   "id": "19e326b3-3154-4e78-b60c-5c425ed8cc8f",
   "metadata": {},
   "source": [
    "### Timezones"
   ]
  },
  {
   "cell_type": "markdown",
   "id": "82142709-d60a-4927-82b5-aacca9c85666",
   "metadata": {},
   "source": [
    "`TrendMinerClient` also takes a Python timezone string argument `tz`. Timezone-unaware timestamps entered by the user will be considered to be in this timezone. Also, when generating regular intervals such as days, weeks, months will be for this timezone. We recommend always setting the relevant timezone (i.e., the timezone of the plant).\n",
    "\n",
    "If in doubt about your timezone identifier, you should be able to find it on https://en.wikipedia.org/wiki/List_of_tz_database_time_zones"
   ]
  },
  {
   "cell_type": "code",
   "execution_count": 3,
   "id": "a3e9760b-5f50-4423-b77d-b5dabc16f521",
   "metadata": {},
   "outputs": [],
   "source": [
    "import os\n",
    "from trendminer import TrendMinerClient\n",
    "\n",
    "client = TrendMinerClient.from_token(\n",
    "    token=os.environ[\"ACCESS_TOKEN\"], \n",
    "    tz=\"Europe/Brussels\",\n",
    ")"
   ]
  },
  {
   "cell_type": "markdown",
   "id": "5333b50e-885e-41ac-b29e-4ddf82fa700b",
   "metadata": {},
   "source": [
    "### The index interval\n",
    "This is the interval for which our calculation needs to output data. The index operation triggers our Python script, and the output is stored as indexed data in TrendMiner, where it is then used for visualizations and calculations. The custom calculation service will pass the start and end times of the interval requested by indexing as environmental variables.\n",
    "\n",
    "*For this external notebook, let us set these variables manually.*"
   ]
  },
  {
   "cell_type": "code",
   "execution_count": 4,
   "id": "bcd0cf44-6006-4af0-91c5-8c1d54f0da4b",
   "metadata": {},
   "outputs": [],
   "source": [
    "os.environ.update({\n",
    "    \"START_TIMESTAMP\": \"2024-01-11T00:05:12+00:00\",\n",
    "    \"END_TIMESTAMP\": \"2024-02-01T00:00:00+00:00\",\n",
    "})"
   ]
  },
  {
   "cell_type": "markdown",
   "id": "7344d2c8-1158-4704-9d81-41cbf8ea636e",
   "metadata": {},
   "source": [
    "In our script, it will make sense to store these inputs into an interval instance. Our script so far thus becomes:"
   ]
  },
  {
   "cell_type": "code",
   "execution_count": 5,
   "id": "d826f6e1-cb9b-4f9a-8571-e3919f25e818",
   "metadata": {},
   "outputs": [],
   "source": [
    "import os\n",
    "from trendminer import TrendMinerClient\n",
    "\n",
    "client = TrendMinerClient.from_token(\n",
    "    token=os.environ[\"ACCESS_TOKEN\"],\n",
    "    tz=\"Europe/Brussels\"\n",
    ")\n",
    "\n",
    "index_interval = client.time.interval(\n",
    "    os.environ[\"START_TIMESTAMP\"], \n",
    "    os.environ[\"END_TIMESTAMP\"],\n",
    ")"
   ]
  },
  {
   "cell_type": "markdown",
   "id": "b335bea1-fdbe-4ea1-b74a-043e61d96f56",
   "metadata": {},
   "source": [
    "When we create a new custom calculation tag, **backward indexing** will first generate and index the historic data from the current time until the index horizon (an admin setting), in chunks the size of the index granularity (another admin setting). Assuming we have a default index granularity of 1 month configured, practically we will receive index intervals of one month, starting from current time moving backwards in time, and our script should calculate the custom tag data for those months. Calculation of historic data will stop before the index horizon if insufficient data is available in our dependent tags for calculation.\n",
    "\n",
    "Once the historic index data for our custom calculation tag is present, the index will be kept up to date with the latest data via the **forward indexing** process. Forward indexing requests will typically happen on a schedule of 1h, and the requested index interval will range from the latest point in the index until the current time. Note that through this mechanism, it does not matter if we cannot provide data all the way up to the current time: the next forward indexing request will pick up where we left off.\n",
    "\n",
    "If we put a monitor on our custom calculation tag, forward indexing will happen at a higher pace (approximately 2 minutes) so the monitor can be considered live. Thus, the index intervals fed to the calculation script will be even smaller.\n",
    "\n",
    "A good custom calculation should be completely agnostic of the number and size of index intervals, and always generate the same data at the same timestamps."
   ]
  },
  {
   "cell_type": "markdown",
   "id": "1e3dc719-ebb0-4cf4-aca4-68bfb7828f82",
   "metadata": {},
   "source": [
    "### Output format\n",
    "The result of our custom calculation script should be the generation of a csv file with two columns: the timestamps and the values. The name of the csv file is provided by a last environment variable.\n",
    "\n",
    "*For this notebook, we again set this variable manually:*"
   ]
  },
  {
   "cell_type": "code",
   "execution_count": 6,
   "id": "b07fd2f1-3c22-440f-a071-da7f94c78a3b",
   "metadata": {},
   "outputs": [],
   "source": [
    "os.environ.update({\n",
    "    \"OUTPUT_FILE\": \"my_tag.csv\"\n",
    "})"
   ]
  },
  {
   "cell_type": "markdown",
   "id": "eb306d52-78b9-4ed8-a3b7-e23b4f2692b0",
   "metadata": {},
   "source": [
    "We now have all the components to create a dummy tag. Copying and pasting the code below results in a tag that always has the value 0. Do note that the actual datapoints in the resulting tag will depend on the index intervals received, which should not be the case for actual production tags.\n",
    "\n",
    "The output expects the columns to be named `ts` and `value` respectively. We set the names of the index and the series itself to these values."
   ]
  },
  {
   "cell_type": "code",
   "execution_count": 7,
   "id": "e290481b-9a56-4142-b551-2abbf1b499be",
   "metadata": {},
   "outputs": [],
   "source": [
    "import os\n",
    "import pandas as pd\n",
    "from trendminer import TrendMinerClient\n",
    "\n",
    "client = TrendMinerClient.from_token(\n",
    "    token=os.environ[\"ACCESS_TOKEN\"],\n",
    "    tz=\"Europe/Brussels\",\n",
    ")\n",
    "\n",
    "index_interval = client.time.interval(\n",
    "    os.environ[\"START_TIMESTAMP\"], \n",
    "    os.environ[\"END_TIMESTAMP\"],\n",
    ")\n",
    "\n",
    "ser = pd.Series(\n",
    "    name=\"value\",\n",
    "    index=[\n",
    "        index_interval.start,\n",
    "        index_interval.end,\n",
    "    ], \n",
    "    data=[0, 0],\n",
    ")\n",
    "\n",
    "ser.index.name=\"ts\"\n",
    "\n",
    "ser.to_csv(\n",
    "    os.environ[\"OUTPUT_FILE\"], \n",
    ")"
   ]
  },
  {
   "cell_type": "markdown",
   "id": "2e9671e1-ee50-46f2-90ad-baf9308c9300",
   "metadata": {},
   "source": [
    "## Retrieving data\n",
    "Our custom calculation will need to retrieve data from TrendMiner to do someting useful. The three main inputs for custom calculation tags are:\n",
    "- Time series data of other tags\n",
    "- Value-based search results + calculations\n",
    "- Aggregations on regular intervals (months, weeks, days, ...)"
   ]
  },
  {
   "cell_type": "markdown",
   "id": "e5e7a7a6-1d18-4abb-a91e-aa0a5868fdcd",
   "metadata": {},
   "source": [
    "### Time series data\n",
    "We can retrieve time series data by loading at tag by name, and then getting interpolated data for that tag for a given interval. Interpolated data is great because it allows easy calculations between tags. Do keep in mind that this data is obtained by interpolating the stored index data; requesting high data resolution data will not give access to any 'raw' data stored in the datasource.\n",
    "\n",
    "Let's consider a simple example below where we add the values of two tags. Remember we should explicitly add both these tags as dependencies in the UI."
   ]
  },
  {
   "cell_type": "code",
   "execution_count": 8,
   "id": "f2c713be-7da3-4158-81e5-487d67a686ed",
   "metadata": {},
   "outputs": [],
   "source": [
    "import os\n",
    "import pandas as pd\n",
    "from trendminer import TrendMinerClient\n",
    "\n",
    "client = TrendMinerClient.from_token(\n",
    "    token=os.environ[\"ACCESS_TOKEN\"],\n",
    "    tz=\"Europe/Brussels\",\n",
    ")\n",
    "\n",
    "index_interval = client.time.interval(\n",
    "    os.environ[\"START_TIMESTAMP\"], \n",
    "    os.environ[\"END_TIMESTAMP\"],\n",
    ")\n",
    "\n",
    "tag1 = client.tag.get_by_name(\"[CS]BA:CONC.1\")\n",
    "tag2 = client.tag.get_by_name(\"[CS]BA:LEVEL.1\")\n",
    "\n",
    "ser1 = tag1.get_data(index_interval, resolution=\"1m\")\n",
    "ser2 = tag2.get_data(index_interval, resolution=\"1m\")\n",
    "\n",
    "ser = ser1+ser2\n",
    "\n",
    "ser.name = \"value\"\n",
    "ser.index.name = \"ts\"\n",
    "\n",
    "ser.to_csv(\n",
    "    os.environ[\"OUTPUT_FILE\"]\n",
    ")"
   ]
  },
  {
   "cell_type": "markdown",
   "id": "b82ec1e8-d78b-4b96-9007-dd0539dbb077",
   "metadata": {},
   "source": [
    "The example above is very straightforward because we can simply retrieve the timeseries data for the index interval. This stops being the case once our calculation needs to take into account a range of timeseries data. For example, if we would like to calculate the standard deviation of our tag over the last hour, we would need to retrieve the timeseries data one hour before our index interval.\n",
    "\n",
    "We should always filter the resulting data to only include data inside the index interval. We need to make this filtering operation exclusive at the start time to **avoid duplicate timestamps at the boundaries of the index intervals**. Furthermore, it is also always prudent to remove any NaN values that might occur."
   ]
  },
  {
   "cell_type": "code",
   "execution_count": 9,
   "id": "00101e7e-ae5e-419e-8d51-17d5b061e077",
   "metadata": {},
   "outputs": [],
   "source": [
    "import os\n",
    "import pandas as pd\n",
    "from trendminer import TrendMinerClient\n",
    "\n",
    "client = TrendMinerClient.from_token(\n",
    "    token=os.environ[\"ACCESS_TOKEN\"],\n",
    "    tz=\"Europe/Brussels\",\n",
    ")\n",
    "\n",
    "index_interval = client.time.interval(\n",
    "    os.environ[\"START_TIMESTAMP\"], \n",
    "    os.environ[\"END_TIMESTAMP\"],\n",
    ")\n",
    "\n",
    "window = client.time.timedelta(\"1h\")\n",
    "\n",
    "data_interval = client.time.interval(\n",
    "    index_interval.start - window,\n",
    "    index_interval.end,\n",
    ")\n",
    "\n",
    "tag = client.tag.get_by_name(\"[CS]BA:CONC.1\")\n",
    "\n",
    "ser = (\n",
    "    tag.get_data(data_interval, resolution=\"1m\")\n",
    "    .rolling(window=window).std()\n",
    "    .loc[lambda x: x.index > index_interval.start]\n",
    "    .loc[lambda x: x.index <= index_interval.end]\n",
    "    .dropna()\n",
    ")\n",
    "\n",
    "ser.name = \"value\"\n",
    "ser.index.name = \"ts\"\n",
    "\n",
    "ser.to_csv(\n",
    "    os.environ[\"OUTPUT_FILE\"]\n",
    ")"
   ]
  },
  {
   "cell_type": "markdown",
   "id": "1ff6287a-75f5-4e0d-9d31-4bd896f51eb7",
   "metadata": {},
   "source": [
    "### Value based searches\n",
    "Performing value-based searches and doing calculations on the results opens up a whole new world in terms of tag possibilities. \n",
    "\n",
    "The complexity in performing a search inside a custom calculation tag lies with figuring out what interval to search on depending on the index interval our script receives. Keep in mind, the central question to answer is: **what points need to be in my index interval, and how do I calculate these points?**"
   ]
  },
  {
   "attachments": {
    "31caffca-875a-4bd2-80d4-4b24852fb484.png": {
     "image/png": "[encoded data removed]"
    },
    "bae4a506-adea-46e0-aae4-046a507674d1.png": {
     "image/png": "[encoded data removed]"
    },
    "cb904dbc-1129-48dd-8717-9328466fab9f.png": {
     "image/png": "[encoded data removed]"
    }
   },
   "cell_type": "markdown",
   "id": "5aae5911-ead7-491b-bdc3-e852e1163ef7",
   "metadata": {},
   "source": [
    "We need to look beyond the index interval to actually make sure we get complete search results. This means we need to make sure the start and end times of our search result are actually the start and end of the search condition, not of the search interval.\n",
    "\n",
    "![image.png](attachment:31caffca-875a-4bd2-80d4-4b24852fb484.png)\n",
    "\n",
    "![image.png](attachment:bae4a506-adea-46e0-aae4-046a507674d1.png)\n",
    "\n",
    "We can take care of this by searching beyond our index interval in such a way that we are guaranteed to find all the search results that at least partially fall in the index interval. In other words, we need to extend the index interval on both ends with the maximal possible duration of a search result. This is a parameter we need to set manually, depending on our use case. We can always take a larger maximal duration to be on the safe side, at the cost of some performance loss (as we unnecessarily search larger intervals).\n",
    "\n",
    "Note that this approach can yield search results that are completely beyond the index interval, which we need to filter out. This will happen when filtering out points from our pandas Series that are not in the index interval, which is a step we should always add for robustness.\n",
    "\n",
    "![image.png](attachment:cb904dbc-1129-48dd-8717-9328466fab9f.png)\n",
    "\n",
    "Another possible caveat to custom calculated tags is that the data of the target tags can be incomplete (i.e., the data is not yet in the historian), and the calculation will still give a result based on the (incomplete) available data. To avoid getting incorrect results from these partial calculations, we implement a check to see up to what timestamp all dependency tag have indexed data available.\n",
    "\n",
    "Below is a simple example that gives the average temperature per batch as a block aggregate tag that returns to a default value of 0 in between batches. To get the average temperature, we can use the calculations on search results. The calculation results needs to be put at the start timestamps of the search results, the default value of 0 at the end timestamps of the search results. The tag created here is intended to be a **discrete** tag."
   ]
  },
  {
   "cell_type": "code",
   "execution_count": 10,
   "id": "f1e9b3fd-1790-40db-9d6a-f043ea6ef0ed",
   "metadata": {},
   "outputs": [],
   "source": [
    "import os\n",
    "import pandas as pd\n",
    "from trendminer import TrendMinerClient\n",
    "from trendminer.sdk.search import ValueBasedSearchOperators, SearchCalculationOptions\n",
    "\n",
    "# Initialize client\n",
    "client = TrendMinerClient.from_token(\n",
    "    token=os.environ[\"ACCESS_TOKEN\"],\n",
    "    tz=\"Europe/Brussels\",\n",
    ")\n",
    "\n",
    "# Set a a safe maximal duration parameter. Here, a batch should never reach 2h duration.\n",
    "maximal_duration = client.time.timedelta(\"2h\")\n",
    "\n",
    "# Received index interval\n",
    "index_interval = client.time.interval(\n",
    "    os.environ[\"START_TIMESTAMP\"], \n",
    "    os.environ[\"END_TIMESTAMP\"],\n",
    ")\n",
    "\n",
    "# Load tags; add these as dependencies!\n",
    "active = client.tag.get_by_name(\"[CS]BA:ACTIVE.1\")\n",
    "temperature = client.tag.get_by_name(\"[CS]BA:TEMP.1\")\n",
    "\n",
    "# Search definition\n",
    "search = client.search.value(\n",
    "    queries = [\n",
    "        (active, ValueBasedSearchOperators.IN_SET, [\"Active\"])\n",
    "    ],\n",
    "    calculations = {\n",
    "        \"result\": (temperature, SearchCalculationOptions.MEAN)\n",
    "    }\n",
    ")\n",
    "\n",
    "# --- CODE EXECUTION ----\n",
    "\n",
    "# Widen interval\n",
    "search_interval = client.time.interval(\n",
    "    index_interval.start - maximal_duration,\n",
    "    index_interval.end + maximal_duration,\n",
    ")\n",
    "\n",
    "# Perform the search\n",
    "\n",
    "results = search.get_results(search_interval)\n",
    "\n",
    "# Remove open-ended result\n",
    "if (len(results) > 0) and ((search_interval.end - results[-1].end) < client.resolution):\n",
    "    results.pop(-1)\n",
    "\n",
    "# Put the results in a Series\n",
    "ser = pd.Series(\n",
    "    name=\"value\",\n",
    "    index=[\n",
    "        timestamp for result in results \n",
    "        for timestamp in (result.start, result.end)\n",
    "    ],\n",
    "    data=[\n",
    "        value for result in results\n",
    "        for value in (result[\"result\"], 0)\n",
    "    ],\n",
    ")\n",
    "\n",
    "ser.index.name = \"ts\"\n",
    "\n",
    "# Filter for timestamps and NaN values\n",
    "ser = (\n",
    "    ser\n",
    "    .loc[lambda x: x.index > index_interval.start]\n",
    "    .loc[lambda x: x.index <= index_interval.end]\n",
    "    .dropna()\n",
    ")\n",
    "\n",
    "# To file\n",
    "ser.to_csv(\n",
    "    os.environ[\"OUTPUT_FILE\"]\n",
    ")"
   ]
  },
  {
   "cell_type": "markdown",
   "id": "91e94975-778e-4c37-a8b0-d483b5581a5c",
   "metadata": {},
   "source": [
    "When we do not want to return to a default value in between search results, the code slightly simplifies as we do not need the end timestamps of the search results anymore. The only points we need to calculate are those of the search results that start within the index interval. Therefore, we do not need to look back to the period before the index interval anymore. However, we still have to look back one index resultion tick to make sure that the search result was not already ongoing before the index interval."
   ]
  },
  {
   "cell_type": "markdown",
   "id": "f2426fb9-3ed5-4546-b28f-a4f9778160cb",
   "metadata": {},
   "source": [
    "In case intensive operations happen on the search results after retrieving them, it is more efficient to filter out the search results we know are outside our index interval before the additional calculations.\n",
    "\n",
    "In the example below, rather than doing calculations on search results, we actually pull time series from the search results for a custom operation (in this example, calculating the kurtosis). As this is a relatively expensive operation, we only do it for the results which actually start in the index interval."
   ]
  },
  {
   "metadata": {},
   "cell_type": "code",
   "outputs": [],
   "execution_count": 11,
   "source": [
    "import os\n",
    "import pandas as pd\n",
    "from trendminer import TrendMinerClient\n",
    "from trendminer.sdk.search import ValueBasedSearchOperators\n",
    "\n",
    "# Initialize client\n",
    "client = TrendMinerClient.from_token(\n",
    "    token=os.environ[\"ACCESS_TOKEN\"],\n",
    "    tz=\"Europe/Brussels\",\n",
    ")\n",
    "\n",
    "# Set a a safe maximal duration parameter\n",
    "maximal_duration = client.time.timedelta(\"2h\")\n",
    "\n",
    "# Received index interval\n",
    "index_interval = client.time.interval(\n",
    "    os.environ[\"START_TIMESTAMP\"], \n",
    "    os.environ[\"END_TIMESTAMP\"],\n",
    ")\n",
    "\n",
    "# Load tags\n",
    "active = client.tag.get_by_name(\"[CS]BA:ACTIVE.1\")\n",
    "temperature = client.tag.get_by_name(\"[CS]BA:TEMP.1\")\n",
    "\n",
    "# Widen interval\n",
    "search_interval = client.time.interval(\n",
    "    index_interval.start - maximal_duration,\n",
    "    index_interval.end + maximal_duration,\n",
    ")\n",
    "\n",
    "# Perform the search\n",
    "search = client.search.value(\n",
    "    queries = [\n",
    "        (active, ValueBasedSearchOperators.IN_SET, [\"Active\"])\n",
    "    ],\n",
    ")\n",
    "\n",
    "results = search.get_results(search_interval)\n",
    "\n",
    "# Remove open-ended result\n",
    "if (len(results) > 0) and ((search_interval.end - results[-1].end) < client.resolution):\n",
    "    results.pop(-1)\n",
    "\n",
    "# Process results\n",
    "for result in results:\n",
    "\n",
    "    # Only calculate when start is in the index interval\n",
    "    if result.start in index_interval:\n",
    "        profile = temperature.get_data(\n",
    "            result,\n",
    "            resolution=\"1m\",\n",
    "        )\n",
    "        result[\"kurtosis\"] = profile.kurt()\n",
    "\n",
    "    # These NaN values will be filtered out of the Series object (dropna)\n",
    "    else:\n",
    "        result[\"kurtosis\"] = pd.NA\n",
    "    \n",
    "\n",
    "# Put the results in a Series\n",
    "ser = pd.Series(\n",
    "    name=\"value\",\n",
    "    index=[\n",
    "        timestamp for result in results \n",
    "        for timestamp in (result.start, result.end)\n",
    "    ],\n",
    "    data=[\n",
    "        value for result in results\n",
    "        for value in (result[\"kurtosis\"], 0)\n",
    "    ],\n",
    ")\n",
    "\n",
    "ser.index.name = \"ts\"\n",
    "\n",
    "# Filter for timestamps and NaN values\n",
    "ser = (\n",
    "    ser\n",
    "    .loc[lambda x: x.index > index_interval.start]\n",
    "    .loc[lambda x: x.index <= index_interval.end]\n",
    "    .dropna()\n",
    ")\n",
    "\n",
    "# To file\n",
    "ser.to_csv(\n",
    "    os.environ[\"OUTPUT_FILE\"]\n",
    ")"
   ],
   "id": "9d0670f7-73eb-49a4-9a76-077df648cbca"
  },
  {
   "metadata": {},
   "cell_type": "markdown",
   "source": [
    "### Regular intervals\n",
    "A common use case is to implement block aggregates, counters and totalizers on regular intervals (days, weeks, ...). You can typically perform a value-based search on a time tag to get search results, processing of which would then work as detailed above. However, we can also get our intervals without explicitly performing a search, which is typically a cleaner and somewhat more performant solution. The resulting code looks very similar to that of getting search results, only we are generating our intervals from another function, and we use calculations on tags to get aggregate values.\n",
    "\n",
    "When performing calculations on regular intervals, we need to take extra care to make sure our tags are actually completely indexed for the interval before performing the calculation.\n",
    "\n",
    "In the example below, we calculate average temperatures on a weekly basis, starting Monday. As weeks happen back-to-back, there is no returning to a default value."
   ],
   "id": "811dcc83-82bb-42ac-b70f-00e6dd183c63"
  },
  {
   "metadata": {},
   "cell_type": "code",
   "outputs": [],
   "execution_count": 12,
   "source": [
    "import os\n",
    "import pandas as pd\n",
    "from trendminer import TrendMinerClient\n",
    "from trendminer.sdk.tag import TagCalculationOptions\n",
    "\n",
    "# Initialize client\n",
    "client = TrendMinerClient.from_token(\n",
    "    token=os.environ[\"ACCESS_TOKEN\"],\n",
    "    tz=\"Europe/Brussels\",\n",
    ")\n",
    "\n",
    "# For a weekly calculation, the maximal duration is logically 7 days\n",
    "freq = \"W-MON\"\n",
    "maximal_duration = client.time.timedelta(\"7d\")\n",
    "\n",
    "# Received index interval\n",
    "index_interval = client.time.interval(\n",
    "    os.environ[\"START_TIMESTAMP\"], \n",
    "    os.environ[\"END_TIMESTAMP\"],\n",
    ")\n",
    "\n",
    "# Load tags\n",
    "temperature = client.tag.get_by_name(\"[CS]BA:TEMP.1\")\n",
    "tags = [temperature]\n",
    "\n",
    "# Determine the last point up to which we can perform calculations (all tags indexed)\n",
    "check_interval = client.time.interval(\n",
    "    index_interval.start,\n",
    "    client.time.now(),\n",
    ")\n",
    "\n",
    "last_timestamp = min([\n",
    "    tag.get_plot_data(check_interval, n_intervals=2).index[-1]\n",
    "    for tag in tags\n",
    "])\n",
    "\n",
    "# Get intervals\n",
    "intervals = client.time.interval.range(\n",
    "    freq=freq,\n",
    "    start=index_interval.start,\n",
    "    end=min([\n",
    "        index_interval.end + maximal_duration,\n",
    "        last_timestamp,\n",
    "    ]),\n",
    "    normalize=True,\n",
    ")\n",
    "\n",
    "# Calculate the weekly average temperature\n",
    "temperature.calculate(\n",
    "    intervals=intervals,\n",
    "    operation=TagCalculationOptions.MEAN,\n",
    "    key=\"temperature\",\n",
    "    inplace=True,\n",
    ")\n",
    "\n",
    "# Put the results in a Series\n",
    "ser = pd.Series(\n",
    "    name=\"value\",\n",
    "    index=[\n",
    "        interval.start for interval in intervals \n",
    "    ],\n",
    "    data=[\n",
    "        interval[\"temperature\"] for interval in intervals\n",
    "    ],\n",
    ")\n",
    "\n",
    "ser.index.name = \"ts\"\n",
    "\n",
    "# Filter for timestamps and NaN values\n",
    "ser = (\n",
    "    ser\n",
    "    .loc[lambda x: x.index > index_interval.start]\n",
    "    .loc[lambda x: x.index <= index_interval.end]\n",
    "    .dropna()\n",
    ")\n",
    "\n",
    "# To file\n",
    "ser.to_csv(\n",
    "    os.environ[\"OUTPUT_FILE\"]\n",
    ")"
   ],
   "id": "f91ed0ba-a4c6-47a0-b75d-d8f7b7e686cd"
  }
 ],
 "metadata": {
  "kernelspec": {
   "display_name": "TrendMinerCS",
   "language": "python",
   "name": "trendminercs"
  },
  "language_info": {
   "codemirror_mode": {
    "name": "ipython",
    "version": 3
   },
   "file_extension": ".py",
   "mimetype": "text/x-python",
   "name": "python",
   "nbconvert_exporter": "python",
   "pygments_lexer": "ipython3",
   "version": "3.9.6"
  }
 },
 "nbformat": 4,
 "nbformat_minor": 5
}
